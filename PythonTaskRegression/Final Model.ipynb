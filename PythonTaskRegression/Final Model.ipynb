{
 "cells": [
  {
   "cell_type": "code",
   "execution_count": 5,
   "id": "7c8e0465",
   "metadata": {},
   "outputs": [],
   "source": [
    "import pandas as pd\n",
    "import numpy as np\n",
    "from sklearn.model_selection import train_test_split\n",
    "from sklearn.preprocessing import StandardScaler\n",
    "from transformation_functions import *\n",
    "from sklearn.preprocessing import OneHotEncoder\n",
    "from sklearn.compose import ColumnTransformer\n",
    "from sklearn.metrics import mean_absolute_error\n",
    "from catboost import CatBoostRegressor\n",
    "import joblib"
   ]
  },
  {
   "cell_type": "code",
   "execution_count": 6,
   "id": "1d7014eb",
   "metadata": {},
   "outputs": [
    {
     "name": "stderr",
     "output_type": "stream",
     "text": [
      "C:\\Users\\user\\Untitled Folder\\transformation_functions.py:15: SettingWithCopyWarning: \n",
      "A value is trying to be set on a copy of a slice from a DataFrame.\n",
      "Try using .loc[row_indexer,col_indexer] = value instead\n",
      "\n",
      "See the caveats in the documentation: https://pandas.pydata.org/pandas-docs/stable/user_guide/indexing.html#returning-a-view-versus-a-copy\n",
      "  X['cnt'] = bike_sharing_dataset.data.targets\n"
     ]
    }
   ],
   "source": [
    "X=import_data() #import dataframe\n",
    "X=X.drop(['atemp','hum','weekday'],axis=1) #drop columns due to multicollinearity \n",
    "X=transform_feature_weathersit(X) #replace value 4 with value 3 for feature 'weathersit'\n",
    "X=create_lagged_values(X) # create lag values for features 'temp','cnt', 'windspeed', 'weathersit'\n",
    "\n",
    "#Separate features and target variable\n",
    "Features=X.drop(['cnt'],axis=1)\n",
    "Target=X['cnt']\n",
    "\n",
    "\n",
    "#normalize cnt values\n",
    "scaler = StandardScaler()\n",
    "Target=scaler.fit_transform(Target.values.reshape(-1, 1))\n",
    "Features,Target=normalize_lag_values(scaler,Features,Target) #normalize lag values of cnt features using .transform\n",
    "\n",
    "\n",
    "\n",
    "one_hot_encoder = OneHotEncoder(handle_unknown='ignore', drop='first', sparse=False)#initialize onehotencoder \n",
    "\n",
    "categorical_cols=['lagged_weathersit_24h','lagged_weathersit_25h','season', 'mnth', 'hr']#columns which will be encoded\n",
    "\n",
    "\n",
    "# Create ColumnTransformer \n",
    "column_transformer = ColumnTransformer(\n",
    "    transformers=[('onehot', one_hot_encoder, categorical_cols)],\n",
    "    remainder='passthrough'  # Pass through the remaining (numerical) columns\n",
    ")\n",
    "\n",
    "\n",
    "# Fit and transform the data\n",
    "encoded_data = column_transformer.fit_transform(Features)\n",
    "# Optionally convert back to a DataFrame\n",
    "encoded_data_df = pd.DataFrame(\n",
    "    encoded_data, \n",
    "    columns=column_transformer.get_feature_names_out()  # Get the new column names\n",
    ")\n",
    "\n",
    "\n",
    "\n",
    "#drop columns not relevat to prediction like dteday  \n",
    "Features=drop_columns(encoded_data_df)"
   ]
  },
  {
   "cell_type": "code",
   "execution_count": 7,
   "id": "ffa87930",
   "metadata": {},
   "outputs": [
    {
     "name": "stdout",
     "output_type": "stream",
     "text": [
      "0:\tlearn: 0.7462756\ttotal: 145ms\tremaining: 14.3s\n",
      "1:\tlearn: 0.5894945\ttotal: 154ms\tremaining: 7.52s\n",
      "2:\tlearn: 0.5134099\ttotal: 160ms\tremaining: 5.18s\n",
      "3:\tlearn: 0.4775457\ttotal: 165ms\tremaining: 3.97s\n",
      "4:\tlearn: 0.4491382\ttotal: 171ms\tremaining: 3.24s\n",
      "5:\tlearn: 0.4396198\ttotal: 176ms\tremaining: 2.75s\n",
      "6:\tlearn: 0.4261477\ttotal: 181ms\tremaining: 2.41s\n",
      "7:\tlearn: 0.4184545\ttotal: 186ms\tremaining: 2.14s\n",
      "8:\tlearn: 0.4150159\ttotal: 192ms\tremaining: 1.94s\n",
      "9:\tlearn: 0.4115481\ttotal: 197ms\tremaining: 1.77s\n",
      "10:\tlearn: 0.4057745\ttotal: 202ms\tremaining: 1.64s\n",
      "11:\tlearn: 0.4029409\ttotal: 207ms\tremaining: 1.52s\n",
      "12:\tlearn: 0.3988351\ttotal: 211ms\tremaining: 1.42s\n",
      "13:\tlearn: 0.3957390\ttotal: 216ms\tremaining: 1.33s\n",
      "14:\tlearn: 0.3938884\ttotal: 221ms\tremaining: 1.25s\n",
      "15:\tlearn: 0.3907635\ttotal: 225ms\tremaining: 1.18s\n",
      "16:\tlearn: 0.3888567\ttotal: 230ms\tremaining: 1.12s\n",
      "17:\tlearn: 0.3857046\ttotal: 234ms\tremaining: 1.07s\n",
      "18:\tlearn: 0.3813889\ttotal: 239ms\tremaining: 1.02s\n",
      "19:\tlearn: 0.3783686\ttotal: 243ms\tremaining: 973ms\n",
      "20:\tlearn: 0.3757174\ttotal: 248ms\tremaining: 932ms\n",
      "21:\tlearn: 0.3727005\ttotal: 252ms\tremaining: 895ms\n",
      "22:\tlearn: 0.3702693\ttotal: 257ms\tremaining: 860ms\n",
      "23:\tlearn: 0.3674293\ttotal: 262ms\tremaining: 829ms\n",
      "24:\tlearn: 0.3652484\ttotal: 267ms\tremaining: 800ms\n",
      "25:\tlearn: 0.3617289\ttotal: 272ms\tremaining: 773ms\n",
      "26:\tlearn: 0.3587085\ttotal: 277ms\tremaining: 749ms\n",
      "27:\tlearn: 0.3557070\ttotal: 282ms\tremaining: 726ms\n",
      "28:\tlearn: 0.3531381\ttotal: 287ms\tremaining: 703ms\n",
      "29:\tlearn: 0.3505537\ttotal: 292ms\tremaining: 681ms\n",
      "30:\tlearn: 0.3476009\ttotal: 297ms\tremaining: 660ms\n",
      "31:\tlearn: 0.3455528\ttotal: 302ms\tremaining: 641ms\n",
      "32:\tlearn: 0.3431814\ttotal: 306ms\tremaining: 621ms\n",
      "33:\tlearn: 0.3410742\ttotal: 311ms\tremaining: 603ms\n",
      "34:\tlearn: 0.3390203\ttotal: 315ms\tremaining: 585ms\n",
      "35:\tlearn: 0.3371657\ttotal: 320ms\tremaining: 568ms\n",
      "36:\tlearn: 0.3357505\ttotal: 325ms\tremaining: 554ms\n",
      "37:\tlearn: 0.3338931\ttotal: 330ms\tremaining: 539ms\n",
      "38:\tlearn: 0.3318836\ttotal: 335ms\tremaining: 525ms\n",
      "39:\tlearn: 0.3302338\ttotal: 340ms\tremaining: 510ms\n",
      "40:\tlearn: 0.3275204\ttotal: 344ms\tremaining: 496ms\n",
      "41:\tlearn: 0.3251373\ttotal: 349ms\tremaining: 482ms\n",
      "42:\tlearn: 0.3236214\ttotal: 354ms\tremaining: 469ms\n",
      "43:\tlearn: 0.3218050\ttotal: 358ms\tremaining: 456ms\n",
      "44:\tlearn: 0.3200833\ttotal: 363ms\tremaining: 443ms\n",
      "45:\tlearn: 0.3187525\ttotal: 367ms\tremaining: 431ms\n",
      "46:\tlearn: 0.3170143\ttotal: 372ms\tremaining: 419ms\n",
      "47:\tlearn: 0.3156562\ttotal: 376ms\tremaining: 407ms\n",
      "48:\tlearn: 0.3139286\ttotal: 381ms\tremaining: 396ms\n",
      "49:\tlearn: 0.3130832\ttotal: 385ms\tremaining: 385ms\n",
      "50:\tlearn: 0.3119667\ttotal: 390ms\tremaining: 374ms\n",
      "51:\tlearn: 0.3108015\ttotal: 394ms\tremaining: 364ms\n",
      "52:\tlearn: 0.3092301\ttotal: 399ms\tremaining: 353ms\n",
      "53:\tlearn: 0.3081062\ttotal: 403ms\tremaining: 343ms\n",
      "54:\tlearn: 0.3063563\ttotal: 408ms\tremaining: 333ms\n",
      "55:\tlearn: 0.3052975\ttotal: 412ms\tremaining: 324ms\n",
      "56:\tlearn: 0.3038759\ttotal: 416ms\tremaining: 314ms\n",
      "57:\tlearn: 0.3027177\ttotal: 421ms\tremaining: 305ms\n",
      "58:\tlearn: 0.3015615\ttotal: 425ms\tremaining: 295ms\n",
      "59:\tlearn: 0.3002554\ttotal: 429ms\tremaining: 286ms\n",
      "60:\tlearn: 0.2982950\ttotal: 434ms\tremaining: 277ms\n",
      "61:\tlearn: 0.2968990\ttotal: 438ms\tremaining: 269ms\n",
      "62:\tlearn: 0.2960010\ttotal: 442ms\tremaining: 260ms\n",
      "63:\tlearn: 0.2945082\ttotal: 447ms\tremaining: 251ms\n",
      "64:\tlearn: 0.2930905\ttotal: 451ms\tremaining: 243ms\n",
      "65:\tlearn: 0.2918599\ttotal: 455ms\tremaining: 235ms\n",
      "66:\tlearn: 0.2911782\ttotal: 460ms\tremaining: 227ms\n",
      "67:\tlearn: 0.2899670\ttotal: 464ms\tremaining: 219ms\n",
      "68:\tlearn: 0.2887048\ttotal: 469ms\tremaining: 211ms\n",
      "69:\tlearn: 0.2877965\ttotal: 473ms\tremaining: 203ms\n",
      "70:\tlearn: 0.2869601\ttotal: 478ms\tremaining: 195ms\n",
      "71:\tlearn: 0.2861616\ttotal: 482ms\tremaining: 188ms\n",
      "72:\tlearn: 0.2856519\ttotal: 486ms\tremaining: 180ms\n",
      "73:\tlearn: 0.2845835\ttotal: 491ms\tremaining: 172ms\n",
      "74:\tlearn: 0.2834023\ttotal: 495ms\tremaining: 165ms\n",
      "75:\tlearn: 0.2824360\ttotal: 500ms\tremaining: 158ms\n",
      "76:\tlearn: 0.2814107\ttotal: 504ms\tremaining: 151ms\n",
      "77:\tlearn: 0.2805824\ttotal: 508ms\tremaining: 143ms\n",
      "78:\tlearn: 0.2797203\ttotal: 513ms\tremaining: 136ms\n",
      "79:\tlearn: 0.2786123\ttotal: 518ms\tremaining: 130ms\n",
      "80:\tlearn: 0.2779347\ttotal: 523ms\tremaining: 123ms\n",
      "81:\tlearn: 0.2770951\ttotal: 528ms\tremaining: 116ms\n",
      "82:\tlearn: 0.2761990\ttotal: 534ms\tremaining: 109ms\n",
      "83:\tlearn: 0.2751799\ttotal: 540ms\tremaining: 103ms\n",
      "84:\tlearn: 0.2746590\ttotal: 545ms\tremaining: 96.1ms\n",
      "85:\tlearn: 0.2736932\ttotal: 549ms\tremaining: 89.4ms\n",
      "86:\tlearn: 0.2722015\ttotal: 554ms\tremaining: 82.7ms\n",
      "87:\tlearn: 0.2713265\ttotal: 558ms\tremaining: 76.1ms\n",
      "88:\tlearn: 0.2707506\ttotal: 562ms\tremaining: 69.5ms\n",
      "89:\tlearn: 0.2698117\ttotal: 567ms\tremaining: 63ms\n",
      "90:\tlearn: 0.2687553\ttotal: 571ms\tremaining: 56.5ms\n",
      "91:\tlearn: 0.2676415\ttotal: 576ms\tremaining: 50.1ms\n",
      "92:\tlearn: 0.2669499\ttotal: 580ms\tremaining: 43.7ms\n",
      "93:\tlearn: 0.2662626\ttotal: 584ms\tremaining: 37.3ms\n",
      "94:\tlearn: 0.2655180\ttotal: 589ms\tremaining: 31ms\n",
      "95:\tlearn: 0.2642262\ttotal: 593ms\tremaining: 24.7ms\n",
      "96:\tlearn: 0.2637293\ttotal: 597ms\tremaining: 18.5ms\n",
      "97:\tlearn: 0.2629883\ttotal: 602ms\tremaining: 12.3ms\n",
      "98:\tlearn: 0.2623745\ttotal: 606ms\tremaining: 6.12ms\n",
      "99:\tlearn: 0.2616717\ttotal: 611ms\tremaining: 0us\n"
     ]
    },
    {
     "data": {
      "text/plain": [
       "<catboost.core.CatBoostRegressor at 0x262094b26d0>"
      ]
     },
     "execution_count": 7,
     "metadata": {},
     "output_type": "execute_result"
    }
   ],
   "source": [
    "cb_model = CatBoostRegressor( depth= 8, \n",
    "                            iterations= 100,\n",
    "                            l2_leaf_reg= 7, \n",
    "                            learning_rate= 0.4)\n",
    "    \n",
    "cb_model.fit(Features,Target)"
   ]
  },
  {
   "cell_type": "code",
   "execution_count": 9,
   "id": "367f825d",
   "metadata": {},
   "outputs": [
    {
     "name": "stdout",
     "output_type": "stream",
     "text": [
      "CatBoost MSE on full set: 0.17244074662252962\n"
     ]
    }
   ],
   "source": [
    "cb_mae = mean_absolute_error(Target, cb_model.predict(Features))\n",
    "print(\"CatBoost MSE on full set:\", cb_mae)"
   ]
  },
  {
   "cell_type": "code",
   "execution_count": 10,
   "id": "52f55d58",
   "metadata": {},
   "outputs": [
    {
     "data": {
      "text/plain": [
       "'based on the saved model and steps shown above a pipeline can be created which automizes the prediction process\\nSince we use the lagged values of cnt, it means a new function should be created in order to get these values.\\n'"
      ]
     },
     "execution_count": 10,
     "metadata": {},
     "output_type": "execute_result"
    }
   ],
   "source": [
    "\n",
    "#column transfortmer\n",
    "joblib.dump(column_transformer, 'column_transformer_one_hot_encoder.pkl')\n",
    "\n",
    "#save the one hot encoder to be used in other notebooks\n",
    "joblib.dump(scaler, 'saved_standardScaler.pkl')\n",
    "\n",
    "\n",
    "# Save the trained model to a file\n",
    "joblib.dump(cb_model, \"trained_regression_model.pkl\")\n",
    "\n",
    "\"\"\"based on the saved model and steps shown above a pipeline can be created which automizes the prediction process\n",
    "Since we use the lagged values of cnt, it means a new function should be created in order to get these values.\n",
    "\"\"\""
   ]
  },
  {
   "cell_type": "code",
   "execution_count": null,
   "id": "a53f7d3d",
   "metadata": {},
   "outputs": [],
   "source": []
  }
 ],
 "metadata": {
  "kernelspec": {
   "display_name": "Python 3",
   "language": "python",
   "name": "python3"
  },
  "language_info": {
   "codemirror_mode": {
    "name": "ipython",
    "version": 3
   },
   "file_extension": ".py",
   "mimetype": "text/x-python",
   "name": "python",
   "nbconvert_exporter": "python",
   "pygments_lexer": "ipython3",
   "version": "3.8.8"
  }
 },
 "nbformat": 4,
 "nbformat_minor": 5
}
